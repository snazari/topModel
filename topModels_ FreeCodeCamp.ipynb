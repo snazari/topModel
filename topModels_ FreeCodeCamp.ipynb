{
 "cells": [
  {
   "cell_type": "code",
   "execution_count": 1,
   "metadata": {
    "collapsed": true
   },
   "outputs": [],
   "source": [
    "import csv\n",
    "from modeling import Model\n",
    "from visualizing_topic_models import *\n",
    "import pdb"
   ]
  },
  {
   "cell_type": "code",
   "execution_count": null,
   "metadata": {
    "collapsed": true
   },
   "outputs": [],
   "source": [
    "# Change the model parameters here in this file\n",
    "!python load_data_from_repositorys.py"
   ]
  },
  {
   "cell_type": "code",
   "execution_count": null,
   "metadata": {
    "collapsed": true
   },
   "outputs": [],
   "source": [
    "model_name = 'RP'\n",
    "model = Model(model_name)"
   ]
  },
  {
   "cell_type": "code",
   "execution_count": null,
   "metadata": {},
   "outputs": [],
   "source": [
    "with open('message.csv', encoding='utf-8') as f:\n",
    "     reader_file = csv.reader(f)\n",
    "     for row in reader_file:\n",
    "         model(row[1], row[0])"
   ]
  },
  {
   "cell_type": "code",
   "execution_count": null,
   "metadata": {
    "collapsed": true
   },
   "outputs": [],
   "source": [
    "model.train_model()\n",
    "model.save()"
   ]
  },
  {
   "cell_type": "code",
   "execution_count": null,
   "metadata": {
    "collapsed": true
   },
   "outputs": [],
   "source": [
    "contributor = 'Logan Tegman'"
   ]
  },
  {
   "cell_type": "code",
   "execution_count": null,
   "metadata": {
    "scrolled": true
   },
   "outputs": [],
   "source": [
    "texts = model.data_for_user(contributor)\n",
    "vectors = model.transforming(texts)\n",
    "matrix  = model.get_matrix(texts)\n",
    "print(vectors)"
   ]
  },
  {
   "cell_type": "code",
   "execution_count": null,
   "metadata": {
    "collapsed": true
   },
   "outputs": [],
   "source": [
    "model_visualization = ['LSI', 'LDA', 'RP']\n",
    "if not model_name in model_visualization:\n",
    "     exit('ERROR: Visualization is only available for models LSI, LDA, RP')"
   ]
  },
  {
   "cell_type": "code",
   "execution_count": null,
   "metadata": {
    "collapsed": true
   },
   "outputs": [],
   "source": [
    "visualization_share_texts_of_topic(matrix, 1, 'Logan Share of topic 1.png')\n",
    "visualization_share_texts_of_topic(matrix, 2, 'Logan Share of topic 2.png')\n",
    "visualization_share_texts_of_topic(matrix, 3, 'Logan Share of topic 3.png')\n",
    "visualization_share_texts_of_topic(matrix, 4, 'Logan Share of topic 4.png')\n",
    "visualization_share_texts_of_topic(matrix, 5, 'Logan Share of topic 5.png')"
   ]
  },
  {
   "cell_type": "markdown",
   "metadata": {},
   "source": [
    "### TSNE for the User"
   ]
  },
  {
   "cell_type": "code",
   "execution_count": null,
   "metadata": {
    "scrolled": true
   },
   "outputs": [],
   "source": [
    "visualization_TSNE_topics(matrix, 5, 'Logan TSNE topics (FreeCodeCamp).html', model)"
   ]
  },
  {
   "cell_type": "markdown",
   "metadata": {},
   "source": [
    "### TSNE for the Repo"
   ]
  },
  {
   "cell_type": "code",
   "execution_count": null,
   "metadata": {
    "scrolled": true
   },
   "outputs": [],
   "source": [
    "# get all data from save model for repository\n",
    "texts = model.corpus_words\n",
    "# get matrix for repository\n",
    "matrix = model.get_matrix(texts)"
   ]
  },
  {
   "cell_type": "code",
   "execution_count": null,
   "metadata": {
    "scrolled": true
   },
   "outputs": [],
   "source": []
  },
  {
   "cell_type": "code",
   "execution_count": null,
   "metadata": {},
   "outputs": [],
   "source": [
    "visualization_TSNE_topics(matrix, 5, 'FreeCodeCamp TSNE_topics_all.html', model)"
   ]
  },
  {
   "cell_type": "code",
   "execution_count": null,
   "metadata": {
    "collapsed": true
   },
   "outputs": [],
   "source": []
  }
 ],
 "metadata": {
  "kernelspec": {
   "display_name": "Python 3",
   "language": "python",
   "name": "python3"
  },
  "language_info": {
   "codemirror_mode": {
    "name": "ipython",
    "version": 3
   },
   "file_extension": ".py",
   "mimetype": "text/x-python",
   "name": "python",
   "nbconvert_exporter": "python",
   "pygments_lexer": "ipython3",
   "version": "3.6.3"
  }
 },
 "nbformat": 4,
 "nbformat_minor": 2
}
